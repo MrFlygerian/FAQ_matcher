{
 "cells": [
  {
   "cell_type": "markdown",
   "metadata": {},
   "source": [
    "# The aim of this notebook: Preface"
   ]
  },
  {
   "cell_type": "markdown",
   "metadata": {},
   "source": [
    "This notebook is adapted from a coding test completed as part of an application to [Algomo](https://www.algomo.com/) (I think they're doing something really cool so feel free to check them out). \n",
    "\n",
    "The aim of this test is to match questions across languages (i.e. teach a program to recognise *'Where is the atm'* as the same thing as *'Où est le guichet automatique'*.\n",
    "\n",
    "This was done using Google's **Multilingual Sentence Encoder**, and some data scraped from a [german neobank](https://n26.com/en-eu). The neobank has a very straightforward html structure making it easy to scrape. "
   ]
  },
  {
   "cell_type": "markdown",
   "metadata": {},
   "source": [
    "## Imports"
   ]
  },
  {
   "cell_type": "code",
   "execution_count": 3,
   "metadata": {},
   "outputs": [
    {
     "name": "stdout",
     "output_type": "stream",
     "text": [
      "time: 0 ns (started: 2021-02-13 16:54:40 -00:00)\n"
     ]
    }
   ],
   "source": [
    "%load_ext autotime"
   ]
  },
  {
   "cell_type": "code",
   "execution_count": 4,
   "metadata": {
    "ExecuteTime": {
     "end_time": "2020-05-13T23:23:38.979367Z",
     "start_time": "2020-05-13T23:23:38.432591Z"
    }
   },
   "outputs": [
    {
     "name": "stdout",
     "output_type": "stream",
     "text": [
      "time: 0 ns (started: 2021-02-13 16:54:41 -00:00)\n"
     ]
    }
   ],
   "source": [
    "# Web Scraping\n",
    "import requests\n",
    "from bs4 import BeautifulSoup\n",
    "import re\n",
    "from tqdm import tqdm\n",
    "\n",
    "# FAQ_ID labelling\n",
    "import pandas as pd \n",
    "import numpy as np\n",
    "from sklearn.cluster import OPTICS\n",
    "from sklearn.preprocessing import MaxAbsScaler\n",
    "\n",
    "# Data Visualisation\n",
    "import matplotlib.pyplot as plt\n",
    "import altair\n",
    "import dtale\n",
    "\n",
    "starting_urls = ['https://support.n26.com/de-de',\n",
    "                 'https://support.n26.com/de-at',\n",
    "                 'https://support.n26.com/en-at',\n",
    "                 'https://support.n26.com/en-de',\n",
    "                 'https://support.n26.com/en-it',\n",
    "                 'https://support.n26.com/it-it',\n",
    "                 'https://support.n26.com/en-eu',\n",
    "                 'https://support.n26.com/en-fr',\n",
    "                 'https://support.n26.com/fr-fr',\n",
    "                 'https://support.n26.com/en-es',\n",
    "                 'https://support.n26.com/es-es',\n",
    "                 'https://support.n26.com/en-us',\n",
    "                 'https://support.n26.com/en-gb'\n",
    "                ]"
   ]
  },
  {
   "cell_type": "code",
   "execution_count": 6,
   "metadata": {},
   "outputs": [
    {
     "name": "stdout",
     "output_type": "stream",
     "text": [
      "time: 234 ms (started: 2021-02-13 16:58:28 -00:00)\n"
     ]
    }
   ],
   "source": [
    "import tensorflow as tf\n",
    "# tf.enable_eager_execution()\n",
    "\n",
    "import tensorflow_hub as hub"
   ]
  },
  {
   "cell_type": "markdown",
   "metadata": {},
   "source": [
    "# Problem statement\n",
    "\n",
    "The task is to find some data from a neobank named N26, and to match questions across languages. It's in affect a web scraping and clustering problem, which affected how this was approached. "
   ]
  },
  {
   "cell_type": "markdown",
   "metadata": {},
   "source": [
    "# Scraping the FAQ data from the helpdesk of N26 across all markets (40%)\n"
   ]
  },
  {
   "cell_type": "markdown",
   "metadata": {},
   "source": [
    "### Crawl (40%)\n"
   ]
  },
  {
   "cell_type": "code",
   "execution_count": null,
   "metadata": {},
   "outputs": [],
   "source": [
    "# set up dataframe for use in crawling\n",
    "df = pd.DataFrame(columns=['url', 'market', 'title', 'content'])\n",
    "\n",
    "\n",
    "# crawl, extract and record relevant information\n",
    "headers = {'User-Agent': 'Mozilla/5.0 (Macintosh; Intel Mac OS X 10_11_6) AppleWebKit/537.36 (KHTML, like Gecko) Chrome/61.0.3163.100 Safari/537.36'}\n",
    "i = 0\n",
    "errors = []\n",
    "\n",
    "for url in tqdm(starting_urls):\n",
    "    \n",
    "    # get faq links from page (it's only the first 6 that we need)\n",
    "    page = requests.get(url, headers=headers)\n",
    "    faq_soup = BeautifulSoup(page.content, 'html.parser')\n",
    "    market = url[-5:]\n",
    "    faq_links = [link['href'] for link in faq_soup.find_all('a') if link['href'].startswith('/'+ market +'/')][:6]\n",
    "    \n",
    "    # get titles and title links links from faq links\n",
    "    for link in faq_links:\n",
    "        q_page = requests.get(url+link[6:], headers) \n",
    "        q_soup = BeautifulSoup(q_page.content, 'html.parser')\n",
    "        q_links = [link['href'] for link in q_soup.find_all('a') \n",
    "                   if link['href'].startswith('/'+ market +'/')\n",
    "                   and link.string.endswith('?')]\n",
    "        titles = [link.string for link in q_soup.find_all('a')\n",
    "                       if link.string is not None and link.string.endswith('?')]\n",
    "        \n",
    "        # get answers from question links and put everything into the dataframe set up earlier\n",
    "        for q, q_link in enumerate(q_links):\n",
    "            try:\n",
    "                a_page = requests.get(url + q_link[6:], headers)\n",
    "                a_source = BeautifulSoup(a_page.content, 'html.parser')\n",
    "                a = a_source.find(id = 'main').get_text().split('?')[1:][0]\n",
    "                df.at[i,'url'] = url + q_link[6:]\n",
    "                df.at[i,'market'] = market\n",
    "                df.at[i,'title'] = titles[q]\n",
    "                df.at[i,'content'] = a\n",
    "                i= i +1\n",
    "            except AttributeError as error:\n",
    "                errors.append([f'Error:{error} for url: {url + q_link[6:]}'])\n",
    "                continue\n",
    "  \n",
    "\n"
   ]
  },
  {
   "cell_type": "code",
   "execution_count": 19,
   "metadata": {
    "collapsed": true
   },
   "outputs": [
    {
     "ename": "NameError",
     "evalue": "name 'errors' is not defined",
     "output_type": "error",
     "traceback": [
      "\u001b[1;31m---------------------------------------------------------------------------\u001b[0m",
      "\u001b[1;31mNameError\u001b[0m                                 Traceback (most recent call last)",
      "\u001b[1;32m<ipython-input-19-46cd404ef6df>\u001b[0m in \u001b[0;36m<module>\u001b[1;34m\u001b[0m\n\u001b[1;32m----> 1\u001b[1;33m \u001b[0mprint\u001b[0m\u001b[1;33m(\u001b[0m\u001b[1;34m'Number of errors:'\u001b[0m\u001b[1;33m,\u001b[0m\u001b[0mlen\u001b[0m\u001b[1;33m(\u001b[0m\u001b[0merrors\u001b[0m\u001b[1;33m)\u001b[0m\u001b[1;33m)\u001b[0m\u001b[1;33m\u001b[0m\u001b[1;33m\u001b[0m\u001b[0m\n\u001b[0m\u001b[0;32m      2\u001b[0m \u001b[1;32mif\u001b[0m \u001b[0mlen\u001b[0m\u001b[1;33m(\u001b[0m\u001b[0merrors\u001b[0m\u001b[1;33m)\u001b[0m \u001b[1;33m>\u001b[0m \u001b[1;36m0\u001b[0m\u001b[1;33m:\u001b[0m\u001b[1;33m\u001b[0m\u001b[1;33m\u001b[0m\u001b[0m\n\u001b[0;32m      3\u001b[0m     \u001b[0mprint\u001b[0m\u001b[1;33m(\u001b[0m\u001b[1;34m'Error example:'\u001b[0m\u001b[1;33m,\u001b[0m\u001b[0merrors\u001b[0m\u001b[1;33m[\u001b[0m\u001b[1;36m0\u001b[0m\u001b[1;33m]\u001b[0m\u001b[1;33m)\u001b[0m\u001b[1;33m\u001b[0m\u001b[1;33m\u001b[0m\u001b[0m\n",
      "\u001b[1;31mNameError\u001b[0m: name 'errors' is not defined"
     ]
    }
   ],
   "source": [
    "print('Number of errors:',len(errors))\n",
    "if len(errors) > 0:\n",
    "    print('Error example:',errors[0])"
   ]
  },
  {
   "cell_type": "markdown",
   "metadata": {},
   "source": [
    "### Data Exploration"
   ]
  },
  {
   "cell_type": "code",
   "execution_count": 7,
   "metadata": {},
   "outputs": [
    {
     "name": "stdout",
     "output_type": "stream",
     "text": [
      "time: 62 ms (started: 2021-02-13 16:58:43 -00:00)\n"
     ]
    }
   ],
   "source": [
    "df = pd.read_csv('extracted_data_n26.csv', index_col=0)"
   ]
  },
  {
   "cell_type": "code",
   "execution_count": 8,
   "metadata": {},
   "outputs": [
    {
     "name": "stdout",
     "output_type": "stream",
     "text": [
      "time: 0 ns (started: 2021-02-13 16:58:44 -00:00)\n"
     ]
    }
   ],
   "source": [
    "df_no_duplicates = df.drop_duplicates(subset=['content'])"
   ]
  },
  {
   "cell_type": "code",
   "execution_count": 9,
   "metadata": {},
   "outputs": [
    {
     "data": {
      "text/html": [
       "<div>\n",
       "<style scoped>\n",
       "    .dataframe tbody tr th:only-of-type {\n",
       "        vertical-align: middle;\n",
       "    }\n",
       "\n",
       "    .dataframe tbody tr th {\n",
       "        vertical-align: top;\n",
       "    }\n",
       "\n",
       "    .dataframe thead th {\n",
       "        text-align: right;\n",
       "    }\n",
       "</style>\n",
       "<table border=\"1\" class=\"dataframe\">\n",
       "  <thead>\n",
       "    <tr style=\"text-align: right;\">\n",
       "      <th></th>\n",
       "      <th>url</th>\n",
       "      <th>market</th>\n",
       "      <th>title</th>\n",
       "      <th>content</th>\n",
       "    </tr>\n",
       "  </thead>\n",
       "  <tbody>\n",
       "    <tr>\n",
       "      <th>0</th>\n",
       "      <td>https://support.n26.com/de-de/konto-und-person...</td>\n",
       "      <td>de-de</td>\n",
       "      <td>Kann ich in meinem Land ein N26 Konto eröffnen?</td>\n",
       "      <td>Wir bieten unsere Konten in folgenden Ländern ...</td>\n",
       "    </tr>\n",
       "    <tr>\n",
       "      <th>1</th>\n",
       "      <td>https://support.n26.com/de-de/konto-und-person...</td>\n",
       "      <td>de-de</td>\n",
       "      <td>Kann ich ein Konto eröffnen, wenn ich außerhal...</td>\n",
       "      <td>Wenn du in Polen, Schweden, Dänemark, Norwegen...</td>\n",
       "    </tr>\n",
       "    <tr>\n",
       "      <th>2</th>\n",
       "      <td>https://support.n26.com/de-de/konto-und-person...</td>\n",
       "      <td>de-de</td>\n",
       "      <td>Wie eröffne ich mein N26 Konto?</td>\n",
       "      <td>Du kannst ein N26 Konto in der App (auf deinem...</td>\n",
       "    </tr>\n",
       "    <tr>\n",
       "      <th>3</th>\n",
       "      <td>https://support.n26.com/de-de/konto-und-person...</td>\n",
       "      <td>de-de</td>\n",
       "      <td>Warum funktioniert meine Video-Verifizierung n...</td>\n",
       "      <td>Einige Tipps für eine erfolgreiche Video-Verif...</td>\n",
       "    </tr>\n",
       "    <tr>\n",
       "      <th>4</th>\n",
       "      <td>https://support.n26.com/de-de/konto-und-person...</td>\n",
       "      <td>de-de</td>\n",
       "      <td>Wie kann ich mich ausweisen?</td>\n",
       "      <td>Als Bank müssen wir wissen, wer du bist. Desha...</td>\n",
       "    </tr>\n",
       "  </tbody>\n",
       "</table>\n",
       "</div>"
      ],
      "text/plain": [
       "                                                 url market  \\\n",
       "0  https://support.n26.com/de-de/konto-und-person...  de-de   \n",
       "1  https://support.n26.com/de-de/konto-und-person...  de-de   \n",
       "2  https://support.n26.com/de-de/konto-und-person...  de-de   \n",
       "3  https://support.n26.com/de-de/konto-und-person...  de-de   \n",
       "4  https://support.n26.com/de-de/konto-und-person...  de-de   \n",
       "\n",
       "                                               title  \\\n",
       "0    Kann ich in meinem Land ein N26 Konto eröffnen?   \n",
       "1  Kann ich ein Konto eröffnen, wenn ich außerhal...   \n",
       "2                    Wie eröffne ich mein N26 Konto?   \n",
       "3  Warum funktioniert meine Video-Verifizierung n...   \n",
       "4                       Wie kann ich mich ausweisen?   \n",
       "\n",
       "                                             content  \n",
       "0  Wir bieten unsere Konten in folgenden Ländern ...  \n",
       "1  Wenn du in Polen, Schweden, Dänemark, Norwegen...  \n",
       "2  Du kannst ein N26 Konto in der App (auf deinem...  \n",
       "3  Einige Tipps für eine erfolgreiche Video-Verif...  \n",
       "4  Als Bank müssen wir wissen, wer du bist. Desha...  "
      ]
     },
     "execution_count": 9,
     "metadata": {},
     "output_type": "execute_result"
    },
    {
     "name": "stdout",
     "output_type": "stream",
     "text": [
      "time: 32 ms (started: 2021-02-13 16:58:44 -00:00)\n"
     ]
    }
   ],
   "source": [
    "df.head()"
   ]
  },
  {
   "cell_type": "code",
   "execution_count": 10,
   "metadata": {},
   "outputs": [
    {
     "name": "stdout",
     "output_type": "stream",
     "text": [
      "df length: 1041\n",
      "df length without duplicates: 536\n",
      "time: 0 ns (started: 2021-02-13 16:58:47 -00:00)\n"
     ]
    }
   ],
   "source": [
    "print('df length:', len(df))\n",
    "print('df length without duplicates:',len(df_no_duplicates))"
   ]
  },
  {
   "cell_type": "code",
   "execution_count": 11,
   "metadata": {},
   "outputs": [
    {
     "name": "stdout",
     "output_type": "stream",
     "text": [
      "time: 6.67 s (started: 2021-02-13 16:58:48 -00:00)\n"
     ]
    }
   ],
   "source": [
    "dtale.show(df, ignore_duplicate=True).open_browser()"
   ]
  },
  {
   "cell_type": "markdown",
   "metadata": {},
   "source": [
    "# Finding closest matches (60%)"
   ]
  },
  {
   "cell_type": "markdown",
   "metadata": {},
   "source": [
    "Finding questions that match from a group of questions is effectively a clustering problem. As it is a clustering problem, we'll need some way of turning the text into something that can be 'clustered'; in machine learning, clustering means finding the distances in vector space between vectors, and giving the same label to vectors within a given distance. \n",
    "\n",
    "The workflow will look like this:\n",
    "\n",
    "\n",
    "\n",
    "1. <b> Get universal encoder from tensorflow </b> - The FAQs are in different languages. The Universal Sentence Encoder will help us to understand the context around words, even in different languages. \n",
    "2.<b> _Embed the question answers_ </b>- In order to cluster our answers, we'll use the encoder to represent our answers in vector form. There will be 512 numbers in each vector, corresponding to 512 distances that describe our answers.\n",
    "3. <b>_Scale the embeddings_ </b>- Using sentences for text embedding often results in the embeddings becoming diluted: it's harder to tell the meaning of sentences apart from each other than it is for words, and this will reflect in the embedding. Scaling the embeddings will preserve the relationship between the embeddings mathematically, whilst making the differences more stark.\n",
    "4. <b>_Cluster the embeddings_ </b>- scikit-learn has many clustering algorithms. OPTICS and DBScan are optimised for high dimensional data, and OPTICS more so according to the [docs](https://scikit-learn.org/stable/modules/generated/sklearn.cluster.OPTICS.html).\n",
    "5. <b>_Attach the cluster labels to the FAQs_</b> - We'll put all this work into a dataframe to be exported.\n",
    "\n",
    "We'll also look at how good the culstering is when there are no repeated questions, as this should force cross language matching better"
   ]
  },
  {
   "cell_type": "markdown",
   "metadata": {},
   "source": [
    "### Get the encoder from Tensorflow Hub"
   ]
  },
  {
   "cell_type": "markdown",
   "metadata": {},
   "source": [
    "Step 1. In order to match the question answers to each other, the universal sentence encoder provided by tensorflow was used to create vector representations of each sentence on the data set (i.e. to create sentence embeddings). We can get the universal sentence encoder from the tensorflow hub."
   ]
  },
  {
   "cell_type": "code",
   "execution_count": 13,
   "metadata": {
    "ExecuteTime": {
     "end_time": "2020-05-13T23:28:29.499675Z",
     "start_time": "2020-05-13T23:24:28.333692Z"
    },
    "scrolled": true
   },
   "outputs": [
    {
     "name": "stdout",
     "output_type": "stream",
     "text": [
      "module https://tfhub.dev/google/universal-sentence-encoder/4 loaded\n",
      "time: 16.8 s (started: 2021-02-13 17:03:16 -00:00)\n"
     ]
    }
   ],
   "source": [
    "# for the purposes of the interview we stongly encourage you to use the universal sentence encoder\n",
    "# The following code will setup everything you need and setup the encoder for you\n",
    "\n",
    "# For full disclaimer this code has been taken from\n",
    "# Semantic Similarity with TF-Hub Universal Encoder at tf hub\n",
    "\n",
    "\n",
    "module_url = \"https://tfhub.dev/google/universal-sentence-encoder/4\"\n",
    "model = hub.load(module_url)\n",
    "print (f\"module {module_url} loaded\")\n",
    "def embed(input):\n",
    "    return model(input)"
   ]
  },
  {
   "cell_type": "markdown",
   "metadata": {},
   "source": [
    "The answers from the scraped data dataframe will provide the basis for the embedding. Lets embed our answers and have a look at what we get."
   ]
  },
  {
   "cell_type": "code",
   "execution_count": 14,
   "metadata": {
    "scrolled": true
   },
   "outputs": [
    {
     "name": "stdout",
     "output_type": "stream",
     "text": [
      "Start of message: Your N26 You(new tab) and N26 Metal(new tab) membership includes a wide range of insurance benefits, covered by our partner Allianz Global Assistance Europe \n",
      "\n",
      "Embedding size: 512\n",
      "First 3 embeddings: [-0.06015113 -0.04349793  0.00300509]\n",
      "Standard deviation: 0.044181168\n",
      "\n",
      "\n",
      "\n",
      "Start of message: Se stai già aspettando una carta, attendi che sia trascorso il tempo di consegna stimato \n",
      "\n",
      "Embedding size: 512\n",
      "First 3 embeddings: [-0.05814423 -0.05300142 -0.01185939]\n",
      "Standard deviation: 0.044128824\n",
      "\n",
      "\n",
      "\n",
      "Start of message: Puedes ingresar dinero en tu cuenta de varias formas, en cuanto hayas verificado tu identidad:MoneyBeam: recibe dinero instantáneo de otros usuarios de N26 \n",
      "\n",
      "Embedding size: 512\n",
      "First 3 embeddings: [-0.05544928 -0.06063871  0.02223106]\n",
      "Standard deviation: 0.044192936\n",
      "\n",
      "\n",
      "\n",
      "time: 1.03 s (started: 2021-02-13 17:03:33 -00:00)\n"
     ]
    }
   ],
   "source": [
    "messages = df.sample(n=3).content\n",
    "message_tensors = embed(messages)\n",
    "\n",
    "for i, tensor in enumerate(message_tensors[:3]):\n",
    "    print(f'Start of message: {messages.to_list()[i].split(\".\")[0]} \\n')\n",
    "    print(f'Embedding size: {len(tensor)}')\n",
    "    print(f'First 3 embeddings: {tensor[:3]}')\n",
    "    print('Standard deviation:', np.std(tensor))\n",
    "    print('\\n'*2)"
   ]
  },
  {
   "cell_type": "markdown",
   "metadata": {},
   "source": [
    "As expected, the distances from answer to answer are really, really small. The standard deviation is comparable to the embedding values, implying the answers within the vector space aren't very well defined. This will drastically affect the quality of the clusters extracted, but we should still be able to get some reasonable results (maybe)."
   ]
  },
  {
   "cell_type": "markdown",
   "metadata": {},
   "source": [
    "The following function will implement steps 2 to 5."
   ]
  },
  {
   "cell_type": "code",
   "execution_count": 15,
   "metadata": {
    "ExecuteTime": {
     "end_time": "2020-05-13T23:29:49.081589Z",
     "start_time": "2020-05-13T23:29:49.076773Z"
    },
    "run_control": {
     "marked": false
    }
   },
   "outputs": [
    {
     "name": "stderr",
     "output_type": "stream",
     "text": [
      "c:\\users\\bless\\.virtualenvs\\dl_projects-geciuh6f\\lib\\site-packages\\sklearn\\cluster\\_optics.py:803: RuntimeWarning:\n",
      "\n",
      "divide by zero encountered in true_divide\n",
      "\n"
     ]
    },
    {
     "name": "stdout",
     "output_type": "stream",
     "text": [
      "time: 3min 4s (started: 2021-02-13 17:03:34 -00:00)\n"
     ]
    }
   ],
   "source": [
    "def match_qas(qas_across_markets_df):\n",
    "    \"\"\"    \n",
    "    This function assigns an faq_id to the input data, thus grouping question\n",
    "    answer pairs across languages. A locale is the language of a market\n",
    "    \n",
    "    Parameters:\n",
    "       qas_across_markets (list[\n",
    "                         (market_1,url_1,title_1,content_1),\n",
    "                         (market_2,url_2,title_2,content_2)])\n",
    "    \n",
    "    \n",
    "    Returns:\n",
    "       matched_data (list[\n",
    "                         (faq_id_1,locale_1,market_1,title_1,content_1),\n",
    "                         (faq_id_1,locale_2,market_2,title_2,content_2)])\n",
    "    \"\"\"\n",
    "    \n",
    "    # The data has structure (questions with the same language will be grouped together, due to the structure of the site).\n",
    "    # This structure may interfere with our clusters, so we shuffle the data to fix that.\n",
    "    shuffled_df = qas_across_markets_df.sample(frac=1, random_state=42)\n",
    "    \n",
    "    # Step 2\n",
    "    embeddings = embed(shuffled_df.content)\n",
    "    \n",
    "    # Step 3\n",
    "    # MaxAbsScaler is used for no particular reason other than it's slightly simpler than the alternatives,\n",
    "    # and plays nicer with OPTICS.\n",
    "    scalar = MaxAbsScaler()\n",
    "    scaled_embeddings = scalar.fit_transform(embeddings)\n",
    "    \n",
    "    # Step 4\n",
    "    # OPTICS is used to cluster the data for reasons mentioned earlier.\n",
    "    clusters = OPTICS(n_jobs=-1, min_cluster_size=4, metric='cosine' ).fit(scaled_embeddings)\n",
    "    \n",
    "    # Step 4\n",
    "    # The labels from the clusters are put into a dataframe along with the rest of the relevant data.\n",
    "    locale_market = shuffled_df.market.str.split(pat='-', expand  = True)\n",
    "\n",
    "    data_dict = {'FAQ_id':clusters.labels_+1 , 'locale':locale_market[0], 'market': locale_market[1],\n",
    "             'title':shuffled_df.title.to_list(), 'content':shuffled_df.content.to_list()}\n",
    "    \n",
    "    matched_data = pd.DataFrame.from_dict(data_dict)\n",
    "    return matched_data\n",
    "    \n",
    "\n",
    "final_results = match_qas(df)\n",
    "\n",
    "# Add a version with the duplicates dropped. This should reduce the amount of clusters \n",
    "# and better match questions across languages as some redundancy is removed \n",
    "\n",
    "final_results_2 = match_qas(df_no_duplicates)"
   ]
  },
  {
   "cell_type": "code",
   "execution_count": 16,
   "metadata": {},
   "outputs": [
    {
     "name": "stdout",
     "output_type": "stream",
     "text": [
      "The amount of FAQ IDs found for scraped data: 87\n",
      "The amount of FAQ IDs found for scraped data without duplicates: 11\n",
      "time: 0 ns (started: 2021-02-13 17:06:39 -00:00)\n"
     ]
    }
   ],
   "source": [
    "print('The amount of FAQ IDs found for scraped data:',len(final_results.FAQ_id.unique()))\n",
    "print('The amount of FAQ IDs found for scraped data without duplicates:',len(final_results_2.FAQ_id.unique()))"
   ]
  },
  {
   "cell_type": "code",
   "execution_count": 17,
   "metadata": {},
   "outputs": [
    {
     "data": {
      "text/html": [
       "<div>\n",
       "<style scoped>\n",
       "    .dataframe tbody tr th:only-of-type {\n",
       "        vertical-align: middle;\n",
       "    }\n",
       "\n",
       "    .dataframe tbody tr th {\n",
       "        vertical-align: top;\n",
       "    }\n",
       "\n",
       "    .dataframe thead th {\n",
       "        text-align: right;\n",
       "    }\n",
       "</style>\n",
       "<table border=\"1\" class=\"dataframe\">\n",
       "  <thead>\n",
       "    <tr style=\"text-align: right;\">\n",
       "      <th></th>\n",
       "      <th>FAQ_id</th>\n",
       "      <th>locale</th>\n",
       "      <th>market</th>\n",
       "      <th>title</th>\n",
       "      <th>content</th>\n",
       "    </tr>\n",
       "  </thead>\n",
       "  <tbody>\n",
       "    <tr>\n",
       "      <th>494</th>\n",
       "      <td>8</td>\n",
       "      <td>it</td>\n",
       "      <td>it</td>\n",
       "      <td>Quando arriverà la mia carta?</td>\n",
       "      <td>La consegna standard impiega fino a 15 giorni ...</td>\n",
       "    </tr>\n",
       "    <tr>\n",
       "      <th>387</th>\n",
       "      <td>5</td>\n",
       "      <td>en</td>\n",
       "      <td>it</td>\n",
       "      <td>How to file a complaint?</td>\n",
       "      <td>Looking for support or have a questionIf you d...</td>\n",
       "    </tr>\n",
       "    <tr>\n",
       "      <th>506</th>\n",
       "      <td>9</td>\n",
       "      <td>it</td>\n",
       "      <td>it</td>\n",
       "      <td>Quanto tempo richiedono i trasferimenti?</td>\n",
       "      <td>ℹ️ Valido per tutti i paesi tranne Regno Unito...</td>\n",
       "    </tr>\n",
       "    <tr>\n",
       "      <th>495</th>\n",
       "      <td>8</td>\n",
       "      <td>it</td>\n",
       "      <td>it</td>\n",
       "      <td>Come attivare la carta?</td>\n",
       "      <td>Se stai attendendo la consegna della tua carta...</td>\n",
       "    </tr>\n",
       "    <tr>\n",
       "      <th>543</th>\n",
       "      <td>9</td>\n",
       "      <td>it</td>\n",
       "      <td>it</td>\n",
       "      <td>Come guadagnare soldi invitando amici in N26?</td>\n",
       "      <td>Puoi iniziare a invitare amici tramite app opp...</td>\n",
       "    </tr>\n",
       "    <tr>\n",
       "      <th>498</th>\n",
       "      <td>8</td>\n",
       "      <td>it</td>\n",
       "      <td>it</td>\n",
       "      <td>Come bloccare la mia carta N26?</td>\n",
       "      <td>Puoi bloccare e sbloccare le tue carte in qual...</td>\n",
       "    </tr>\n",
       "    <tr>\n",
       "      <th>491</th>\n",
       "      <td>9</td>\n",
       "      <td>it</td>\n",
       "      <td>it</td>\n",
       "      <td>Come funziona N26 Business?</td>\n",
       "      <td>ℹ️ Vale per Austria, Belgio, Danimarca, Estoni...</td>\n",
       "    </tr>\n",
       "    <tr>\n",
       "      <th>464</th>\n",
       "      <td>9</td>\n",
       "      <td>it</td>\n",
       "      <td>it</td>\n",
       "      <td>Posso aprire un conto se vivo al di fuori dell...</td>\n",
       "      <td>Se vivi in Polonia, Svezia, Danimarca, Norvegi...</td>\n",
       "    </tr>\n",
       "    <tr>\n",
       "      <th>487</th>\n",
       "      <td>9</td>\n",
       "      <td>it</td>\n",
       "      <td>it</td>\n",
       "      <td>Come passare a Metal?</td>\n",
       "      <td>ℹ️ Disponibile in Germania, Austria, Francia, ...</td>\n",
       "    </tr>\n",
       "    <tr>\n",
       "      <th>485</th>\n",
       "      <td>9</td>\n",
       "      <td>it</td>\n",
       "      <td>it</td>\n",
       "      <td>Quali sono i vantaggi di N26 Metal?</td>\n",
       "      <td>ℹ️Disponibile in Germania, Austria, Francia, S...</td>\n",
       "    </tr>\n",
       "    <tr>\n",
       "      <th>528</th>\n",
       "      <td>9</td>\n",
       "      <td>it</td>\n",
       "      <td>it</td>\n",
       "      <td>Come ricaricare il mio conto?</td>\n",
       "      <td>Dopo aver aperto il tuo conto N26, puoi riceve...</td>\n",
       "    </tr>\n",
       "    <tr>\n",
       "      <th>499</th>\n",
       "      <td>8</td>\n",
       "      <td>it</td>\n",
       "      <td>it</td>\n",
       "      <td>Como posso usare la mia carta digitalmente?</td>\n",
       "      <td>Anche prima che la tua carta arrivi per posta,...</td>\n",
       "    </tr>\n",
       "    <tr>\n",
       "      <th>471</th>\n",
       "      <td>9</td>\n",
       "      <td>it</td>\n",
       "      <td>it</td>\n",
       "      <td>Devo dichiarare il mio conto N26?</td>\n",
       "      <td>N26 è una banca tedesca che a partire dal 26 m...</td>\n",
       "    </tr>\n",
       "    <tr>\n",
       "      <th>486</th>\n",
       "      <td>9</td>\n",
       "      <td>it</td>\n",
       "      <td>it</td>\n",
       "      <td>Quali sono i vantaggi di N26 You?</td>\n",
       "      <td>Effettua un Upgrade a N26 You e riceverai 10 S...</td>\n",
       "    </tr>\n",
       "    <tr>\n",
       "      <th>552</th>\n",
       "      <td>9</td>\n",
       "      <td>it</td>\n",
       "      <td>it</td>\n",
       "      <td>Cos’è CASH26?</td>\n",
       "      <td>ℹ️ Si applica per i conti aperti in Germania, ...</td>\n",
       "    </tr>\n",
       "    <tr>\n",
       "      <th>488</th>\n",
       "      <td>9</td>\n",
       "      <td>it</td>\n",
       "      <td>it</td>\n",
       "      <td>Come passare a N26 You?</td>\n",
       "      <td>ℹ️ Disponibile in Austria, Belgio, Danimarca, ...</td>\n",
       "    </tr>\n",
       "  </tbody>\n",
       "</table>\n",
       "</div>"
      ],
      "text/plain": [
       "     FAQ_id locale market                                              title  \\\n",
       "494       8     it     it                      Quando arriverà la mia carta?   \n",
       "387       5     en     it                           How to file a complaint?   \n",
       "506       9     it     it           Quanto tempo richiedono i trasferimenti?   \n",
       "495       8     it     it                            Come attivare la carta?   \n",
       "543       9     it     it      Come guadagnare soldi invitando amici in N26?   \n",
       "498       8     it     it                    Come bloccare la mia carta N26?   \n",
       "491       9     it     it                        Come funziona N26 Business?   \n",
       "464       9     it     it  Posso aprire un conto se vivo al di fuori dell...   \n",
       "487       9     it     it                              Come passare a Metal?   \n",
       "485       9     it     it                Quali sono i vantaggi di N26 Metal?   \n",
       "528       9     it     it                      Come ricaricare il mio conto?   \n",
       "499       8     it     it        Como posso usare la mia carta digitalmente?   \n",
       "471       9     it     it                  Devo dichiarare il mio conto N26?   \n",
       "486       9     it     it                  Quali sono i vantaggi di N26 You?   \n",
       "552       9     it     it                                      Cos’è CASH26?   \n",
       "488       9     it     it                            Come passare a N26 You?   \n",
       "\n",
       "                                               content  \n",
       "494  La consegna standard impiega fino a 15 giorni ...  \n",
       "387  Looking for support or have a questionIf you d...  \n",
       "506  ℹ️ Valido per tutti i paesi tranne Regno Unito...  \n",
       "495  Se stai attendendo la consegna della tua carta...  \n",
       "543  Puoi iniziare a invitare amici tramite app opp...  \n",
       "498  Puoi bloccare e sbloccare le tue carte in qual...  \n",
       "536  Spaces ti permette di creare diversi spazi nel...  \n",
       "491  ℹ️ Vale per Austria, Belgio, Danimarca, Estoni...  \n",
       "464  Se vivi in Polonia, Svezia, Danimarca, Norvegi...  \n",
       "487  ℹ️ Disponibile in Germania, Austria, Francia, ...  \n",
       "485  ℹ️Disponibile in Germania, Austria, Francia, S...  \n",
       "528  Dopo aver aperto il tuo conto N26, puoi riceve...  \n",
       "499  Anche prima che la tua carta arrivi per posta,...  \n",
       "471  N26 è una banca tedesca che a partire dal 26 m...  \n",
       "486  Effettua un Upgrade a N26 You e riceverai 10 S...  \n",
       "552  ℹ️ Si applica per i conti aperti in Germania, ...  \n",
       "488  ℹ️ Disponibile in Austria, Belgio, Danimarca, ...  "
      ]
     },
     "execution_count": 17,
     "metadata": {},
     "output_type": "execute_result"
    },
    {
     "name": "stdout",
     "output_type": "stream",
     "text": [
      "time: 31 ms (started: 2021-02-13 17:06:39 -00:00)\n"
     ]
    }
   ],
   "source": [
    "# clusters 1 to 4 showed some question matching\n",
    "final_results_2.loc[(final_results_2.market == 'it') & (final_results_2.FAQ_id!=0)]"
   ]
  },
  {
   "cell_type": "markdown",
   "metadata": {},
   "source": [
    "In this notebook we attempted to match questions across languages by clustering them with a scikit-learn implementation of OPTICS, a density-based clustering algorithm tuned to high-dimensional data such as ours. We met VERY limited success, due to the curse of dimensionality and the narrowness of the topic at hand.\n",
    "\n",
    "There should have been a cluster for every question from the 6 FAQ links scraped, but instead only 7 were found \n",
    "\n",
    "Some matching between French and English was made, probably because they're the two closest languages to each other. The clustering seemed mainly to focus on the language/words used and not the context of the words, resulting in the massive bucket of left-over content in the last bucket.\n",
    "\n",
    "Some tuning of OPTICS clustering would improve this a lot, but after a few different parameters were tried and tested the results didn't get any better or more defined than they are now. Perhaps another approach could produced a more informative clustering."
   ]
  },
  {
   "cell_type": "markdown",
   "metadata": {},
   "source": [
    "## Saving the data frames"
   ]
  },
  {
   "cell_type": "markdown",
   "metadata": {},
   "source": [
    "We'll save the scraped data that was used for machine learning and the results of machine learning."
   ]
  },
  {
   "cell_type": "code",
   "execution_count": null,
   "metadata": {},
   "outputs": [],
   "source": [
    "extracted_data_fname = 'extracted_data_n26.csv'\n",
    "final_results_fname = 'n26_with_faq_.csv'"
   ]
  },
  {
   "cell_type": "code",
   "execution_count": null,
   "metadata": {},
   "outputs": [],
   "source": [
    "df.to_csv(extracted_data_fname)\n",
    "final_results_2.to_csv(final_results_fname)"
   ]
  }
 ],
 "metadata": {
  "kernelspec": {
   "display_name": "Python 3",
   "language": "python",
   "name": "python3"
  },
  "language_info": {
   "codemirror_mode": {
    "name": "ipython",
    "version": 3
   },
   "file_extension": ".py",
   "mimetype": "text/x-python",
   "name": "python",
   "nbconvert_exporter": "python",
   "pygments_lexer": "ipython3",
   "version": "3.7.8"
  },
  "varInspector": {
   "cols": {
    "lenName": 16,
    "lenType": 16,
    "lenVar": 40
   },
   "kernels_config": {
    "python": {
     "delete_cmd_postfix": "",
     "delete_cmd_prefix": "del ",
     "library": "var_list.py",
     "varRefreshCmd": "print(var_dic_list())"
    },
    "r": {
     "delete_cmd_postfix": ") ",
     "delete_cmd_prefix": "rm(",
     "library": "var_list.r",
     "varRefreshCmd": "cat(var_dic_list()) "
    }
   },
   "types_to_exclude": [
    "module",
    "function",
    "builtin_function_or_method",
    "instance",
    "_Feature"
   ],
   "window_display": false
  }
 },
 "nbformat": 4,
 "nbformat_minor": 4
}
